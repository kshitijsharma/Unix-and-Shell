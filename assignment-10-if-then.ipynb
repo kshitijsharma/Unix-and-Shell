{
 "cells": [
  {
   "cell_type": "markdown",
   "metadata": {},
   "source": [
    "# Exercise 1\n",
    " 1. Write a shell script that prints 10 command line arguments. What happens if we pass fewer than 10 arguments?\n",
    " 2. Change the value of a positional parameter. Did you succeed?"
   ]
  },
  {
   "cell_type": "code",
   "execution_count": 7,
   "metadata": {},
   "outputs": [
    {
     "name": "stdout",
     "output_type": "stream",
     "text": [
      "echo $*\n"
     ]
    }
   ],
   "source": [
    "cat script1.sh"
   ]
  },
  {
   "cell_type": "code",
   "execution_count": 6,
   "metadata": {},
   "outputs": [
    {
     "name": "stdout",
     "output_type": "stream",
     "text": [
      "a b c d e f g h i j\n"
     ]
    }
   ],
   "source": [
    "sh script1.sh a b c d e f g h i j"
   ]
  },
  {
   "cell_type": "code",
   "execution_count": 5,
   "metadata": {},
   "outputs": [
    {
     "name": "stdout",
     "output_type": "stream",
     "text": [
      "echo $*\n",
      "$1=Hello\n"
     ]
    }
   ],
   "source": [
    "cat script1.sh"
   ]
  },
  {
   "cell_type": "code",
   "execution_count": 6,
   "metadata": {},
   "outputs": [
    {
     "name": "stdout",
     "output_type": "stream",
     "text": [
      "1 2 3 4 a b c d e\n",
      "script1.sh: 2: script1.sh: 1=Hello: not found\n"
     ]
    },
    {
     "ename": "",
     "evalue": "127",
     "output_type": "error",
     "traceback": []
    }
   ],
   "source": [
    "sh script1.sh 1 2 3 4 a b c d e"
   ]
  },
  {
   "cell_type": "markdown",
   "metadata": {},
   "source": [
    "# Exercise 2\n"
   ]
  },
  {
   "cell_type": "markdown",
   "metadata": {},
   "source": [
    "### 1. Define a shell function fun() . Let it take 2 parameters and print them. Call fun() from the main script with two arguments."
   ]
  },
  {
   "cell_type": "code",
   "execution_count": 8,
   "metadata": {},
   "outputs": [
    {
     "name": "stdout",
     "output_type": "stream",
     "text": [
      "f(){\n",
      "   echo The value of the parameters are $1 $2\n",
      "}\n",
      "\n",
      "f 1 2\n"
     ]
    }
   ],
   "source": [
    "cat script2.sh"
   ]
  },
  {
   "cell_type": "code",
   "execution_count": 9,
   "metadata": {},
   "outputs": [
    {
     "name": "stdout",
     "output_type": "stream",
     "text": [
      "The value of the parameters are 1 2\n"
     ]
    }
   ],
   "source": [
    "sh script2.sh"
   ]
  },
  {
   "cell_type": "markdown",
   "metadata": {},
   "source": [
    "### 2. Modify the script so that the main script reads two command line arguments, and prints them. Let it call func with two arguments. What does each print?"
   ]
  },
  {
   "cell_type": "code",
   "execution_count": 15,
   "metadata": {},
   "outputs": [
    {
     "name": "stdout",
     "output_type": "stream",
     "text": [
      "f(){\n",
      "   echo 'The value of the parameters inside fun() are' $1 $2\n",
      "}\n",
      "\n",
      "echo 'The value of the parameters inside script are' $1 $2\n",
      "f $1 $2\n"
     ]
    }
   ],
   "source": [
    "cat script2.sh"
   ]
  },
  {
   "cell_type": "code",
   "execution_count": 16,
   "metadata": {},
   "outputs": [
    {
     "name": "stdout",
     "output_type": "stream",
     "text": [
      "The value of the parameters inside script are hello 1\n",
      "The value of the parameters inside fun() are hello 1\n"
     ]
    }
   ],
   "source": [
    "sh script2.sh hello 1"
   ]
  },
  {
   "cell_type": "markdown",
   "metadata": {},
   "source": [
    "### 3. Define a variable in the main script. Print it in the main script and inside the function. Does the function print the value of the variable?"
   ]
  },
  {
   "cell_type": "code",
   "execution_count": 19,
   "metadata": {},
   "outputs": [
    {
     "name": "stdout",
     "output_type": "stream",
     "text": [
      "var=Hello\n",
      "\n",
      "f(){\n",
      "   echo 'The value of var in f() is: ' $var\n",
      "}\n",
      "f\n",
      "echo 'The value of var is: ' $var\n"
     ]
    }
   ],
   "source": [
    "cat script2.sh"
   ]
  },
  {
   "cell_type": "code",
   "execution_count": 20,
   "metadata": {},
   "outputs": [
    {
     "name": "stdout",
     "output_type": "stream",
     "text": [
      "The value of var in f() is:  Hello\n",
      "The value of var is:  Hello\n"
     ]
    }
   ],
   "source": [
    "sh script2.sh"
   ]
  },
  {
   "cell_type": "markdown",
   "metadata": {},
   "source": [
    "### 4. Change the value of the variable inside the function. Print its value before and after the function call. Did the value change?"
   ]
  },
  {
   "cell_type": "code",
   "execution_count": 23,
   "metadata": {},
   "outputs": [
    {
     "name": "stdout",
     "output_type": "stream",
     "text": [
      "var=Hello\n",
      "\n",
      "f(){\n",
      "   var=World\n",
      "   echo 'The value of var in f() is: ' $var\n",
      "}\n",
      "echo 'The value of var before function call is: ' $var\n",
      "f\n",
      "echo 'The value of var after function call is: ' $var\n"
     ]
    }
   ],
   "source": [
    "cat script2.sh"
   ]
  },
  {
   "cell_type": "code",
   "execution_count": 24,
   "metadata": {},
   "outputs": [
    {
     "name": "stdout",
     "output_type": "stream",
     "text": [
      "The value of var before function call is:  Hello\n",
      "The value of var in f() is:  World\n",
      "The value of var after function call is:  World\n"
     ]
    }
   ],
   "source": [
    "sh script2.sh"
   ]
  },
  {
   "cell_type": "markdown",
   "metadata": {},
   "source": [
    "### 5. Define a variable inside the function. Print it before and after the function call. What do you observe? "
   ]
  },
  {
   "cell_type": "code",
   "execution_count": 25,
   "metadata": {},
   "outputs": [
    {
     "name": "stdout",
     "output_type": "stream",
     "text": [
      "\n",
      "f(){\n",
      "   var=World\n",
      "   echo 'The value of var in f() is: ' $var\n",
      "}\n",
      "echo 'The value of var before function call is: ' $var\n",
      "f\n",
      "echo 'The value of var after function call is: ' $var\n"
     ]
    }
   ],
   "source": [
    "cat script2.sh"
   ]
  },
  {
   "cell_type": "code",
   "execution_count": 26,
   "metadata": {},
   "outputs": [
    {
     "name": "stdout",
     "output_type": "stream",
     "text": [
      "The value of var before function call is: \n",
      "The value of var in f() is:  World\n",
      "The value of var after function call is:  World\n"
     ]
    }
   ],
   "source": [
    "sh script2.sh"
   ]
  },
  {
   "cell_type": "markdown",
   "metadata": {},
   "source": [
    "###  6. Define a local variable inside the function. Print it before and after the function call. What do you infer?"
   ]
  },
  {
   "cell_type": "code",
   "execution_count": 28,
   "metadata": {},
   "outputs": [
    {
     "name": "stdout",
     "output_type": "stream",
     "text": [
      "f(){\n",
      "   local var=World\n",
      "   echo 'The value of var in f() is: ' $var\n",
      "}\n",
      "echo 'The value of var before function call is: ' $var\n",
      "f\n",
      "echo 'The value of var after function call is: ' $var\n"
     ]
    }
   ],
   "source": [
    "cat script2.sh"
   ]
  },
  {
   "cell_type": "code",
   "execution_count": 30,
   "metadata": {},
   "outputs": [
    {
     "name": "stdout",
     "output_type": "stream",
     "text": [
      "The value of var before function call is: \n",
      "The value of var in f() is:  World\n",
      "The value of var after function call is: \n"
     ]
    }
   ],
   "source": [
    "sh script2.sh"
   ]
  },
  {
   "cell_type": "markdown",
   "metadata": {},
   "source": [
    "# Exercise 3"
   ]
  },
  {
   "cell_type": "markdown",
   "metadata": {},
   "source": [
    "### 1. Write a shell function minimum that takes two parameters and prints the smallest of the two.  Demonstrate it by calling it from main shell script."
   ]
  },
  {
   "cell_type": "code",
   "execution_count": 31,
   "metadata": {},
   "outputs": [
    {
     "name": "stdout",
     "output_type": "stream",
     "text": [
      "minimum(){\n",
      "  if [ $1 -lt $2 ]; then\n",
      "\techo $1 is lesser\n",
      "  else\n",
      "\techo $2 is lesser\n",
      "  fi\n",
      "}\n",
      "\n",
      "\n",
      "minimum $1 $2\n",
      "\n"
     ]
    }
   ],
   "source": [
    "cat script3.sh"
   ]
  },
  {
   "cell_type": "code",
   "execution_count": 33,
   "metadata": {},
   "outputs": [
    {
     "name": "stdout",
     "output_type": "stream",
     "text": [
      "10 is lesser\n",
      "10 is lesser\n"
     ]
    }
   ],
   "source": [
    "sh script3.sh 10 20\n",
    "sh script3.sh 20 10"
   ]
  },
  {
   "cell_type": "markdown",
   "metadata": {},
   "source": [
    "### 2. Write a shell function maximum that takes two parameters and returns the largest of the two. Demonstrate it by calling it, and then printing the exits status."
   ]
  },
  {
   "cell_type": "code",
   "execution_count": 36,
   "metadata": {},
   "outputs": [
    {
     "name": "stdout",
     "output_type": "stream",
     "text": [
      "maximum(){\n",
      "    if [ $1 -ge $2 ]; then\n",
      "        echo $1 is greater\n",
      "    else\n",
      "        echo $2 is greater\n",
      "    fi\n",
      "}\n",
      "\n",
      "maximum $1 $2\n",
      "\n"
     ]
    }
   ],
   "source": [
    "cat script3.sh"
   ]
  },
  {
   "cell_type": "code",
   "execution_count": 37,
   "metadata": {},
   "outputs": [
    {
     "name": "stdout",
     "output_type": "stream",
     "text": [
      "20 is greater\n",
      "20 is greater\n"
     ]
    }
   ],
   "source": [
    "sh script3.sh 10 20\n",
    "sh script3.sh 20 10"
   ]
  },
  {
   "cell_type": "markdown",
   "metadata": {},
   "source": [
    "### 3. Anna University converts the marks in an exam to letter grades according to the following table. Write a shell script to translate the marks of a student in a semester into letter grades.\n",
    "| Mark Range | Grade Points | Letter Grade |\n",
    "|-----------:|-------------:|--------------|\n",
    "| 91-100     | 10           | S            |\n",
    "| 81-90      | 9            | A            |\n",
    "| 71-80      | 8            | B            |\n",
    "| 61-70      | 7            | C            |\n",
    "| 57-60      | 6            | D            |\n",
    "| 51- 56     | 5            | E            |\n",
    "| <50        | 0            | U            |"
   ]
  },
  {
   "cell_type": "code",
   "execution_count": 5,
   "metadata": {},
   "outputs": [
    {
     "name": "stdout",
     "output_type": "stream",
     "text": [
      "putgrade (){\n",
      "    if  [ $1 -ge 91 -a $1 -le 100 ]; then\n",
      "        echo 'Grade S'\n",
      "    elif [ $1 -ge 81 -a $1 -le 90 ]; then\n",
      "        echo 'Grade A'\n",
      "    elif [ $1 -ge 71 -a $1 -le 80 ]; then\n",
      "        echo 'Grade B'\n",
      "    elif [ $1 -ge 61 -a $1 -le 70 ]; then\n",
      "        echo 'Grade C'\n",
      "    elif [ $1 -ge 57 -a $1 -le 60 ]; then\n",
      "        echo 'Grade D'\n",
      "    elif [ $1 -ge 51 -a $1 -le 56 ]; then\n",
      "        echo 'Grade E'\n",
      "    else\n",
      "        echo 'Grade U'\n",
      "    fi\n",
      "}\n",
      "\n",
      "putgrade $1\n"
     ]
    }
   ],
   "source": [
    "cat script3.sh"
   ]
  },
  {
   "cell_type": "code",
   "execution_count": 2,
   "metadata": {},
   "outputs": [
    {
     "name": "stdout",
     "output_type": "stream",
     "text": [
      "Grade S\n"
     ]
    }
   ],
   "source": [
    "sh script3.sh 93"
   ]
  },
  {
   "cell_type": "code",
   "execution_count": 3,
   "metadata": {},
   "outputs": [
    {
     "name": "stdout",
     "output_type": "stream",
     "text": [
      "Grade B\n"
     ]
    }
   ],
   "source": [
    "sh script3.sh 73"
   ]
  },
  {
   "cell_type": "markdown",
   "metadata": {},
   "source": [
    "# Exercise 4"
   ]
  },
  {
   "cell_type": "markdown",
   "metadata": {},
   "source": [
    "### 1.Write a shell function string-compare that takes two strings s1 and s2 as arguments and returns 1 if s1 comes before s2 by ASCII order, 0 if s1 is the same as s2 , and 2 if s1 comes after s2 ."
   ]
  },
  {
   "cell_type": "code",
   "execution_count": 6,
   "metadata": {},
   "outputs": [
    {
     "name": "stdout",
     "output_type": "stream",
     "text": [
      "string_compare(){\n",
      "    str1=$1;\n",
      "    str2=$2;\n",
      "\n",
      "    if [ $str1 == $str2 ]; then\n",
      "        echo 0\n",
      "    elif [ $str1 \\< $str2 ]; then\n",
      "\techo 1\n",
      "    else\n",
      "\techo 2\n",
      "    fi\n",
      "}\n",
      "\n",
      "echo 'The return value is' $(string_compare $1 $2)\n",
      "\n"
     ]
    }
   ],
   "source": [
    "cat script4.sh"
   ]
  },
  {
   "cell_type": "code",
   "execution_count": 9,
   "metadata": {},
   "outputs": [
    {
     "name": "stdout",
     "output_type": "stream",
     "text": [
      "The return value is 0\n"
     ]
    }
   ],
   "source": [
    "bash script4.sh \"Green\" \"Green\""
   ]
  },
  {
   "cell_type": "code",
   "execution_count": 7,
   "metadata": {},
   "outputs": [
    {
     "name": "stdout",
     "output_type": "stream",
     "text": [
      "The return value is 1\n"
     ]
    }
   ],
   "source": [
    "bash script4.sh \"Hello\" \"World\""
   ]
  },
  {
   "cell_type": "code",
   "execution_count": 8,
   "metadata": {},
   "outputs": [
    {
     "name": "stdout",
     "output_type": "stream",
     "text": [
      "The return value is 2\n"
     ]
    }
   ],
   "source": [
    "bash script4.sh \"Test\" \"Apple\""
   ]
  },
  {
   "cell_type": "markdown",
   "metadata": {},
   "source": [
    "# Exercise 5"
   ]
  },
  {
   "cell_type": "markdown",
   "metadata": {},
   "source": [
    "### 1. Run the commands true and false and check their exit status."
   ]
  },
  {
   "cell_type": "code",
   "execution_count": 11,
   "metadata": {},
   "outputs": [
    {
     "name": "stdout",
     "output_type": "stream",
     "text": [
      "The exit status is 0\n"
     ]
    }
   ],
   "source": [
    "true; echo \"The exit status is\" $?"
   ]
  },
  {
   "cell_type": "code",
   "execution_count": 12,
   "metadata": {},
   "outputs": [
    {
     "name": "stdout",
     "output_type": "stream",
     "text": [
      "The exit status is 1\n"
     ]
    }
   ],
   "source": [
    "false; echo \"The exit status is\" $?"
   ]
  },
  {
   "cell_type": "markdown",
   "metadata": {},
   "source": [
    "### 2. Write a script that prints essentially the same information as ls -l a but in a more user-friendly way.\n",
    " - (a) file exists or not\n",
    " - (b) regular file?\n",
    " - (c) directory?\n",
    " - (d) readable?\n",
    " - (e) writable?\n",
    " - (f) executable?\n",
    " - (g) owner \n",
    "\n",
    "### Print suitable messages."
   ]
  },
  {
   "cell_type": "code",
   "execution_count": 14,
   "metadata": {},
   "outputs": [
    {
     "name": "stdout",
     "output_type": "stream",
     "text": [
      "FILE=$1\n",
      "if [ -e \"$FILE\" ]; then\n",
      "    if [ -f \"$FILE\" ]; then\n",
      "\techo \"$FILE is a regular file.\"\n",
      "    fi\n",
      "    if [ -d \"$FILE\" ]; then\n",
      "\techo \"$FILE is a directory.\"\n",
      "    fi\n",
      "    if [ -r \"$FILE\" ]; then\n",
      "\techo \"$FILE is readable.\"\n",
      "    fi\n",
      "    if [ -w \"$FILE\" ]; then\n",
      "\techo \"$FILE is writable.\"\n",
      "    fi\n",
      "    if [ -x \"$FILE\" ]; then\n",
      "\techo \"$FILE is executable/searchable.\"\n",
      "    fi\n",
      "else\n",
      "\techo \"$FILE does not exist\"\n",
      "        exit 1\n",
      "fi\n",
      "exit\n"
     ]
    }
   ],
   "source": [
    "cat script5.sh"
   ]
  },
  {
   "cell_type": "code",
   "execution_count": 15,
   "metadata": {},
   "outputs": [
    {
     "name": "stdout",
     "output_type": "stream",
     "text": [
      "/home/mahesh is a directory.\n",
      "/home/mahesh is readable.\n",
      "/home/mahesh is writable.\n",
      "/home/mahesh is executable/searchable.\n"
     ]
    }
   ],
   "source": [
    "bash script5.sh ~"
   ]
  },
  {
   "cell_type": "code",
   "execution_count": 16,
   "metadata": {},
   "outputs": [
    {
     "name": "stdout",
     "output_type": "stream",
     "text": [
      "script4.sh is a regular file.\n",
      "script4.sh is readable.\n",
      "script4.sh is writable.\n"
     ]
    }
   ],
   "source": [
    "bash script5.sh script4.sh"
   ]
  },
  {
   "cell_type": "code",
   "execution_count": 17,
   "metadata": {},
   "outputs": [
    {
     "name": "stdout",
     "output_type": "stream",
     "text": [
      "test does not exist\n"
     ]
    },
    {
     "ename": "",
     "evalue": "1",
     "output_type": "error",
     "traceback": []
    }
   ],
   "source": [
    "bash script5.sh test"
   ]
  },
  {
   "cell_type": "markdown",
   "metadata": {},
   "source": [
    "### 3. Rewrite the script as a shell function finfo and call the function with a filename."
   ]
  },
  {
   "cell_type": "markdown",
   "metadata": {},
   "source": [
    "cat script5.sh"
   ]
  },
  {
   "cell_type": "code",
   "execution_count": 19,
   "metadata": {},
   "outputs": [
    {
     "name": "stdout",
     "output_type": "stream",
     "text": [
      "/home/mahesh is a directory.\n",
      "/home/mahesh is readable.\n",
      "/home/mahesh is writable.\n",
      "/home/mahesh is executable/searchable.\n"
     ]
    }
   ],
   "source": [
    "bash script5.sh"
   ]
  },
  {
   "cell_type": "markdown",
   "metadata": {},
   "source": [
    "# Exercise 6"
   ]
  },
  {
   "cell_type": "markdown",
   "metadata": {},
   "source": [
    "### 1. Write a script to print a sequence of numbers from 1 to 10."
   ]
  },
  {
   "cell_type": "code",
   "execution_count": 20,
   "metadata": {},
   "outputs": [
    {
     "name": "stdout",
     "output_type": "stream",
     "text": [
      "for v in $(seq 1 10)\n",
      "do\n",
      "    echo $v\n",
      "done\n"
     ]
    }
   ],
   "source": [
    "cat script6.sh"
   ]
  },
  {
   "cell_type": "code",
   "execution_count": 21,
   "metadata": {},
   "outputs": [
    {
     "name": "stdout",
     "output_type": "stream",
     "text": [
      "1\n",
      "2\n",
      "3\n",
      "4\n",
      "5\n",
      "6\n",
      "7\n",
      "8\n",
      "9\n",
      "10\n"
     ]
    }
   ],
   "source": [
    "bash script6.sh"
   ]
  },
  {
   "cell_type": "markdown",
   "metadata": {},
   "source": [
    "### 2. ((expression)) evaluates expression. $((expression)) accesses the value of the expression. We can use the value in another command such as echo . Using for statement, write a script to print the multiplication table. Take the number from the command line."
   ]
  },
  {
   "cell_type": "code",
   "execution_count": 22,
   "metadata": {},
   "outputs": [
    {
     "name": "stdout",
     "output_type": "stream",
     "text": [
      "m1=$1\n",
      "val=0\n",
      "\n",
      "for m2 in 1 2 3 4 5 6 7 8 9 '10'\n",
      "do\n",
      "   ((val =  m1 * m2))\n",
      "   echo $m1 '*' $m2 '=' $val\n",
      "done \n"
     ]
    }
   ],
   "source": [
    "cat script6.sh"
   ]
  },
  {
   "cell_type": "code",
   "execution_count": 23,
   "metadata": {},
   "outputs": [
    {
     "name": "stdout",
     "output_type": "stream",
     "text": [
      "6 * 1 = 6\n",
      "6 * 2 = 12\n",
      "6 * 3 = 18\n",
      "6 * 4 = 24\n",
      "6 * 5 = 30\n",
      "6 * 6 = 36\n",
      "6 * 7 = 42\n",
      "6 * 8 = 48\n",
      "6 * 9 = 54\n",
      "6 * 10 = 60\n"
     ]
    }
   ],
   "source": [
    "bash script6.sh 6"
   ]
  },
  {
   "cell_type": "code",
   "execution_count": 24,
   "metadata": {},
   "outputs": [
    {
     "name": "stdout",
     "output_type": "stream",
     "text": [
      "4 * 1 = 4\n",
      "4 * 2 = 8\n",
      "4 * 3 = 12\n",
      "4 * 4 = 16\n",
      "4 * 5 = 20\n",
      "4 * 6 = 24\n",
      "4 * 7 = 28\n",
      "4 * 8 = 32\n",
      "4 * 9 = 36\n",
      "4 * 10 = 40\n"
     ]
    }
   ],
   "source": [
    "bash script6.sh 4"
   ]
  },
  {
   "cell_type": "markdown",
   "metadata": {},
   "source": [
    "### 3. seq prints a sequence of numbers. The syntax is:\n",
    " 1. seq last\n",
    " 2. seq first last\n",
    " 3. seq first step last\n",
    " 4. Print a list of numbers from 10 to 50 in steps of 5."
   ]
  },
  {
   "cell_type": "code",
   "execution_count": 25,
   "metadata": {},
   "outputs": [
    {
     "name": "stdout",
     "output_type": "stream",
     "text": [
      "for v in $(seq 10 5 50)\n",
      "do\n",
      " echo -n $v \" \"\n",
      "done\n",
      "\n",
      "echo \"\"\n"
     ]
    }
   ],
   "source": [
    "cat script6.sh"
   ]
  },
  {
   "cell_type": "code",
   "execution_count": 28,
   "metadata": {},
   "outputs": [
    {
     "name": "stdout",
     "output_type": "stream",
     "text": [
      "10  15  20  25  30  35  40  45  50  \n"
     ]
    }
   ],
   "source": [
    "bash script6.sh"
   ]
  },
  {
   "cell_type": "markdown",
   "metadata": {},
   "source": [
    "### 4. Use seq with for statement to print the multiplication table."
   ]
  },
  {
   "cell_type": "code",
   "execution_count": 29,
   "metadata": {},
   "outputs": [
    {
     "name": "stdout",
     "output_type": "stream",
     "text": [
      "m1=$1\n",
      "val=0\n",
      "\n",
      "for m2 in $(seq 1 10)\n",
      "do\n",
      "   ((val = m1 * m2))\n",
      "   echo $m1 '*' $m2 '=' $val\n",
      "done\n",
      "\n"
     ]
    }
   ],
   "source": [
    "cat script6.sh"
   ]
  },
  {
   "cell_type": "code",
   "execution_count": 30,
   "metadata": {},
   "outputs": [
    {
     "name": "stdout",
     "output_type": "stream",
     "text": [
      "2 * 1 = 2\n",
      "2 * 2 = 4\n",
      "2 * 3 = 6\n",
      "2 * 4 = 8\n",
      "2 * 5 = 10\n",
      "2 * 6 = 12\n",
      "2 * 7 = 14\n",
      "2 * 8 = 16\n",
      "2 * 9 = 18\n",
      "2 * 10 = 20\n"
     ]
    }
   ],
   "source": [
    "bash script6.sh 2"
   ]
  },
  {
   "cell_type": "markdown",
   "metadata": {},
   "source": [
    "### 5. Filenames are strings. Write a script to list the informative contents of a directory using finfo ."
   ]
  },
  {
   "cell_type": "code",
   "execution_count": 31,
   "metadata": {},
   "outputs": [
    {
     "name": "stdout",
     "output_type": "stream",
     "text": [
      "DIR=\"$1\"\n",
      "\n",
      "finfo(){\n",
      "\tcd \"$DIR\"\n",
      "\tFILE=\"$1\"\n",
      "\tif [ -e \"$FILE\" ]; then\n",
      "\t    if [ -f \"$FILE\" ]; then\n",
      "\t\techo \"$FILE is a regular file.\"\n",
      "\t    fi\n",
      "\t    if [ -d \"$FILE\" ]; then\n",
      "\t\techo \"$FILE is a directory.\"\n",
      "\t    fi\n",
      "\t    if [ -r \"$FILE\" ]; then\n",
      "\t\techo \"$FILE is readable.\"\n",
      "\t    fi\n",
      "\t    if [ -w \"$FILE\" ]; then\n",
      "\t\techo \"$FILE is writable.\"\n",
      "\t    fi\n",
      "\t    if [ -x \"$FILE\" ]; then\n",
      "\t\techo \"$FILE is executable/searchable.\"\n",
      "\t    fi\n",
      "\telse\n",
      "\t\techo \"$FILE does not exist\"\n",
      "\tfi\n",
      "}\n",
      "\n",
      "for f in $(ls \"$DIR\")\n",
      "do\n",
      "    finfo \"$f\"\n",
      "    echo \"\"\n",
      "done\n"
     ]
    }
   ],
   "source": [
    "cat script6.sh"
   ]
  },
  {
   "cell_type": "code",
   "execution_count": 44,
   "metadata": {},
   "outputs": [
    {
     "name": "stdout",
     "output_type": "stream",
     "text": [
      "assignment-01-introduction-mahesh.ipynb is a regular file.\n",
      "assignment-01-introduction-mahesh.ipynb is readable.\n",
      "assignment-01-introduction-mahesh.ipynb is writable.\n",
      "\n",
      "assignment-02-filesystem-mahesh.ipynb is a regular file.\n",
      "assignment-02-filesystem-mahesh.ipynb is readable.\n",
      "assignment-02-filesystem-mahesh.ipynb is writable.\n",
      "\n",
      "assignment-03-permissions-mahesh.ipynb is a regular file.\n",
      "assignment-03-permissions-mahesh.ipynb is readable.\n",
      "assignment-03-permissions-mahesh.ipynb is writable.\n",
      "\n",
      "assignment-04-shell-intro.ipynb is a regular file.\n",
      "assignment-04-shell-intro.ipynb is readable.\n",
      "assignment-04-shell-intro.ipynb is writable.\n",
      "\n",
      "assignment-05-filters.ipynb is a regular file.\n",
      "assignment-05-filters.ipynb is readable.\n",
      "assignment-05-filters.ipynb is writable.\n",
      "\n",
      "assignment-06-grep.ipynb is a regular file.\n",
      "assignment-06-grep.ipynb is readable.\n",
      "assignment-06-grep.ipynb is writable.\n",
      "\n",
      "assignment-07-sed.ipynb is a regular file.\n",
      "assignment-07-sed.ipynb is readable.\n",
      "assignment-07-sed.ipynb is writable.\n",
      "\n",
      "Assignment-10-mahesh.ipynb is a regular file.\n",
      "Assignment-10-mahesh.ipynb is readable.\n",
      "Assignment-10-mahesh.ipynb is writable.\n",
      "\n",
      "README.md is a regular file.\n",
      "README.md is readable.\n",
      "README.md is writable.\n",
      "\n",
      "script3.sh is a regular file.\n",
      "script3.sh is readable.\n",
      "script3.sh is writable.\n",
      "\n",
      "script4.sh is a regular file.\n",
      "script4.sh is readable.\n",
      "script4.sh is writable.\n",
      "\n",
      "script5.sh is a regular file.\n",
      "script5.sh is readable.\n",
      "script5.sh is writable.\n",
      "\n",
      "script6.sh is a regular file.\n",
      "script6.sh is readable.\n",
      "script6.sh is writable.\n",
      "\n",
      "Temp is a directory.\n",
      "Temp is readable.\n",
      "Temp is writable.\n",
      "Temp is executable/searchable.\n",
      "\n"
     ]
    }
   ],
   "source": [
    "bash script6.sh ~/Documents/UnixLab"
   ]
  },
  {
   "cell_type": "markdown",
   "metadata": {},
   "source": [
    "### 6. Change the last script to print informative list of only the regular files."
   ]
  },
  {
   "cell_type": "code",
   "execution_count": 45,
   "metadata": {},
   "outputs": [
    {
     "name": "stdout",
     "output_type": "stream",
     "text": [
      "DIR=\"$1\"\n",
      "\n",
      "finfo(){\n",
      "\tcd \"$DIR\"\n",
      "\tFILE=\"$1\"\n",
      "\tif [ -e \"$FILE\" -a -f \"$FILE\" ]; then\n",
      "\t     if [ -r \"$FILE\" ]; then\n",
      "\t\techo \"$FILE is readable.\"\n",
      "\t    fi\n",
      "\t    if [ -w \"$FILE\" ]; then\n",
      "\t\techo \"$FILE is writable.\"\n",
      "\t    fi\n",
      "\t    if [ -x \"$FILE\" ]; then\n",
      "\t\techo \"$FILE is executable/searchable.\"\n",
      "\t    fi\n",
      "\telse\n",
      "\t\techo \"$FILE is not a regular filet\"\n",
      "\tfi\n",
      "}\n",
      "\n",
      "for f in $(ls \"$DIR\")\n",
      "do\n",
      "    finfo \"$f\"\n",
      "    echo \"\"\n",
      "done\n"
     ]
    }
   ],
   "source": [
    "cat script6.sh"
   ]
  },
  {
   "cell_type": "code",
   "execution_count": 47,
   "metadata": {},
   "outputs": [
    {
     "name": "stdout",
     "output_type": "stream",
     "text": [
      "assignment-01-introduction-mahesh.ipynb is readable.\n",
      "assignment-01-introduction-mahesh.ipynb is writable.\n",
      "\n",
      "assignment-02-filesystem-mahesh.ipynb is readable.\n",
      "assignment-02-filesystem-mahesh.ipynb is writable.\n",
      "\n",
      "assignment-03-permissions-mahesh.ipynb is readable.\n",
      "assignment-03-permissions-mahesh.ipynb is writable.\n",
      "\n",
      "assignment-04-shell-intro.ipynb is readable.\n",
      "assignment-04-shell-intro.ipynb is writable.\n",
      "\n",
      "assignment-05-filters.ipynb is readable.\n",
      "assignment-05-filters.ipynb is writable.\n",
      "\n",
      "assignment-06-grep.ipynb is readable.\n",
      "assignment-06-grep.ipynb is writable.\n",
      "\n",
      "assignment-07-sed.ipynb is readable.\n",
      "assignment-07-sed.ipynb is writable.\n",
      "\n",
      "Assignment-10-mahesh.ipynb is readable.\n",
      "Assignment-10-mahesh.ipynb is writable.\n",
      "\n",
      "README.md is readable.\n",
      "README.md is writable.\n",
      "\n",
      "script3.sh is readable.\n",
      "script3.sh is writable.\n",
      "\n",
      "script4.sh is readable.\n",
      "script4.sh is writable.\n",
      "\n",
      "script5.sh is readable.\n",
      "script5.sh is writable.\n",
      "\n",
      "script6.sh is readable.\n",
      "script6.sh is writable.\n",
      "\n",
      "Temp is not a regular file\n",
      "\n"
     ]
    }
   ],
   "source": [
    "bash script6.sh ."
   ]
  }
 ],
 "metadata": {
  "kernelspec": {
   "display_name": "Bash",
   "language": "bash",
   "name": "bash"
  },
  "language_info": {
   "codemirror_mode": "shell",
   "file_extension": ".sh",
   "mimetype": "text/x-sh",
   "name": "bash"
  }
 },
 "nbformat": 4,
 "nbformat_minor": 2
}
